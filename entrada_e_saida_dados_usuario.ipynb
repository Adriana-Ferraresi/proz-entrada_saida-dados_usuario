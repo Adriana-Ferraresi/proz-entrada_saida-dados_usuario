{
  "cells": [
    {
      "cell_type": "markdown",
      "metadata": {
        "id": "view-in-github",
        "colab_type": "text"
      },
      "source": [
        "<a href=\"https://colab.research.google.com/github/Crisfer-code/Proz-entrada_saida-dados_usuario/blob/main/entrada_e_saida_dados_usuario.ipynb\" target=\"_parent\"><img src=\"https://colab.research.google.com/assets/colab-badge.svg\" alt=\"Open In Colab\"/></a>"
      ]
    },
    {
      "cell_type": "markdown",
      "source": [
        "**# Introdrução a Programação**\n",
        "## Ativ_3-CodePark_2\n",
        "## Realizar entrada e saida de dados do usuario\n",
        "Faça uma função calculadora que os números e as operações serão feitas pelo usuário. O código deve ficar rodando infinitamente até que o usuário escolha a opção de sair. No início, o programa mostrará a seguinte lista de operações:\n",
        "\n",
        "1: Soma\n",
        "2: Subtração\n",
        "3: Multiplicação\n",
        "4: Divisão\n",
        "0: Sair\n",
        "\n",
        "Digite o número para a operação correspondente e caso o usuário introduza qualquer outro, o sistema deve mostrar a mensagem “Essa opção não existe” e voltar ao menu de opções.\n",
        "Após a seleção, o sistema deve pedir para o usuário inserir o primeiro e segundo valor, um de cada. Depois precisa executar a operação e mostrar o resultado na tela. Quando o usuário escolher a opção “Sair”, o sistema irá parar.\n",
        "É necessário que o sistema mostre as opções sempre que finalizar uma operação e mostrar o resultado.\n",
        "\n"
      ],
      "metadata": {
        "id": "_5nUHL58fuI6"
      }
    },
    {
      "cell_type": "code",
      "source": [
        "def calculadora():\n",
        "   while True:\n",
        "     try:\n",
        "      operacao = int(input('Bem vindo à calculadora!\\nEscolha uma das opções:\\n1. Soma\\n2. Subtração\\n3. MultipLicação\\n4. Divisão\\n0. Sair\\n'))\n",
        "      if operacao == 0:\n",
        "        print('Sair')\n",
        "        break\n",
        "      elif operacao in[1, 2, 3, 4]:\n",
        "        primeiroNumero = float(input('Insira o primeiro número: '))\n",
        "        segundoNumero = float(input('Insira o segundo número: '))\n",
        "        if operacao == 1:\n",
        "          resultado = primeiroNumero + segundoNumero\n",
        "        if operacao == 2:\n",
        "          resultado = primeiroNumero - segundoNumero\n",
        "        if operacao == 3:\n",
        "          resultado = primeiroNumero * segundoNumero\n",
        "        if operacao == 4:\n",
        "          if segundoNumero == 0:\n",
        "              print('Digite um divisor diferente de 0')\n",
        "              continue\n",
        "          resultado = primeiroNumero / segundoNumero\n",
        "        print(f\"O resultado é: {resultado}\\n\")\n",
        "      else:\n",
        "        print('Essa opção não existe!\\n')\n",
        "     except ValueError:\n",
        "      print('Digite apenas números válidos!')\n",
        "\n",
        "calculadora()\n"
      ],
      "metadata": {
        "colab": {
          "base_uri": "https://localhost:8080/"
        },
        "id": "z6JD9DT_F0-G",
        "outputId": "b9089b42-4771-4a89-b16a-a9a3dcb0ece8"
      },
      "execution_count": null,
      "outputs": [
        {
          "output_type": "stream",
          "name": "stdout",
          "text": [
            "Bem vindo à calculadora!\n",
            "Escolha uma das opções:\n",
            "1. Soma\n",
            "2. Subtração\n",
            "3. MultipLicação\n",
            "4. Divisão\n",
            "0. Sair\n",
            "1\n",
            "Insira o primeiro número: 10\n",
            "Insira o segundo número: 10\n",
            "O resultado é: 20.0\n",
            "\n",
            "Bem vindo à calculadora!\n",
            "Escolha uma das opções:\n",
            "1. Soma\n",
            "2. Subtração\n",
            "3. MultipLicação\n",
            "4. Divisão\n",
            "0. Sair\n",
            "2\n",
            "Insira o primeiro número: 40\n",
            "Insira o segundo número: 15\n",
            "O resultado é: 25.0\n",
            "\n",
            "Bem vindo à calculadora!\n",
            "Escolha uma das opções:\n",
            "1. Soma\n",
            "2. Subtração\n",
            "3. MultipLicação\n",
            "4. Divisão\n",
            "0. Sair\n",
            "3\n",
            "Insira o primeiro número: 4\n",
            "Insira o segundo número: 25\n",
            "O resultado é: 100.0\n",
            "\n",
            "Bem vindo à calculadora!\n",
            "Escolha uma das opções:\n",
            "1. Soma\n",
            "2. Subtração\n",
            "3. MultipLicação\n",
            "4. Divisão\n",
            "0. Sair\n",
            "4\n",
            "Insira o primeiro número: 90\n",
            "Insira o segundo número: 4\n",
            "O resultado é: 22.5\n",
            "\n",
            "Bem vindo à calculadora!\n",
            "Escolha uma das opções:\n",
            "1. Soma\n",
            "2. Subtração\n",
            "3. MultipLicação\n",
            "4. Divisão\n",
            "0. Sair\n",
            "7\n",
            "Essa opção não existe!\n",
            "\n",
            "Bem vindo à calculadora!\n",
            "Escolha uma das opções:\n",
            "1. Soma\n",
            "2. Subtração\n",
            "3. MultipLicação\n",
            "4. Divisão\n",
            "0. Sair\n",
            "0\n",
            "Sair\n"
          ]
        }
      ]
    }
  ],
  "metadata": {
    "colab": {
      "provenance": [],
      "include_colab_link": true
    },
    "kernelspec": {
      "display_name": "Python 3",
      "name": "python3"
    }
  },
  "nbformat": 4,
  "nbformat_minor": 0
}